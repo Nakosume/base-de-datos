{
 "cells": [
  {
   "cell_type": "code",
   "execution_count": 17,
   "metadata": {},
   "outputs": [],
   "source": [
    "import pandas as pd\n",
    "import ipywidgets as widgets\n",
    "import numpy as np"
   ]
  },
  {
   "cell_type": "code",
   "execution_count": 2,
   "metadata": {},
   "outputs": [],
   "source": [
    "df = pd.read_csv('https://docs.google.com/spreadsheets/d/1YPvVNTy7qFJS1MDSjvseYfEQDlYIW8B6cv7d-6Zjnr8/pub?output=csv')\n"
   ]
  },
  {
   "cell_type": "code",
   "execution_count": 16,
   "metadata": {},
   "outputs": [
    {
     "data": {
      "application/vnd.jupyter.widget-view+json": {
       "model_id": "0a9683da8d9d452fab94a652e102d852",
       "version_major": 2,
       "version_minor": 0
      },
      "text/plain": [
       "interactive(children=(Dropdown(description='Ordenar por:', options=('ID', 'Nombre completo', 'Edad', 'Género',…"
      ]
     },
     "execution_count": 16,
     "metadata": {},
     "output_type": "execute_result"
    }
   ],
   "source": [
    "drop=widgets.Dropdown(\n",
    "    options=df.columns,\n",
    "    value='ID',\n",
    "    description='Ordenar por:',\n",
    "    disabled=False,\n",
    ")\n",
    "checkbox = widgets.Checkbox(\n",
    "    value=True,\n",
    "    description='Ascending',\n",
    ")\n",
    "\n",
    "def sort_data(column,ascending):\n",
    "    sort_df = df.sort_values(by=column,ascending=ascending)\n",
    "    display(sort_df)\n",
    "    \n",
    "widgets.interactive(sort_data,column=drop,ascending=checkbox)"
   ]
  },
  {
   "cell_type": "code",
   "execution_count": 46,
   "metadata": {},
   "outputs": [
    {
     "data": {
      "application/vnd.jupyter.widget-view+json": {
       "model_id": "149f0f69767a415996fb5a5e283b374c",
       "version_major": 2,
       "version_minor": 0
      },
      "text/plain": [
       "interactive(children=(Dropdown(description='persona 1:', options=('Andrés Felipe Neira Méndez', 'Juan Esteban …"
      ]
     },
     "execution_count": 46,
     "metadata": {},
     "output_type": "execute_result"
    }
   ],
   "source": [
    "dropdown1 = widgets.Dropdown(\n",
    "    options=df['Nombre completo'].tolist(),\n",
    "    value='Andrés Felipe Neira Méndez',\n",
    "    description='persona 1:'\n",
    ")\n",
    "\n",
    "dropdown2 = widgets.Dropdown(\n",
    "    options=df['Nombre completo'].tolist(),\n",
    "    value='Sebastian Romero Torijano',\n",
    "    description='persona 2:'\n",
    ")\n",
    "\n",
    "# Step 4: Define a function to calculate the dot product\n",
    "def calculate_dot_product(row1, row2):\n",
    "    selected_row1 = df[df['Nombre completo'] == row1]\n",
    "    selected_row2 = df[df['Nombre completo'] == row2]\n",
    "    \n",
    "    num_cols1 = selected_row1.select_dtypes(include='number')\n",
    "    num_cols2 = selected_row2.select_dtypes(include='number')\n",
    "    \n",
    "    values1 = num_cols1.to_numpy().flatten()\n",
    "    values2 = num_cols2.to_numpy().flatten()\n",
    "    \n",
    "    dot_product = np.dot(values1,values2)\n",
    "    length1 = np.linalg.norm(values1)\n",
    "    length2 = np.linalg.norm(values2)\n",
    "    \n",
    "    print(f\"Producto punto: {dot_product}\")\n",
    "    print(f\"Longitud de vector de {row1}: {length1}\")\n",
    "    print(f\"Longitud de vector de {row2}: {length2}\")\n",
    "\n",
    "widgets.interactive(calculate_dot_product, row1=dropdown1, row2=dropdown2)"
   ]
  }
 ],
 "metadata": {
  "kernelspec": {
   "display_name": "Python 3",
   "language": "python",
   "name": "python3"
  },
  "language_info": {
   "codemirror_mode": {
    "name": "ipython",
    "version": 3
   },
   "file_extension": ".py",
   "mimetype": "text/x-python",
   "name": "python",
   "nbconvert_exporter": "python",
   "pygments_lexer": "ipython3",
   "version": "3.11.9"
  }
 },
 "nbformat": 4,
 "nbformat_minor": 2
}
